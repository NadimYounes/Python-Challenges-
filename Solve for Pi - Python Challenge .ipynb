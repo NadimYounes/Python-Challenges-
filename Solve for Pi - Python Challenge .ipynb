{
 "cells": [
  {
   "cell_type": "markdown",
   "metadata": {},
   "source": [
    "## Estimating $\\pi$\n",
    "\n",
    "Imagine a circle whose radius lets you touch the edges of a square like this (inscribed circle).\n",
    "\n",
    "<img src='http://calculus.seas.upenn.edu/uploads/Main/InscribedCircle.png'/>\n",
    "\n",
    "The center of the circle is at point $[0, 0]$ (the origin) and has a radius of 1. Therefore, we by definition know that the side lenghts of the square is 2 by 2.\n",
    "\n",
    "Using a square, a circle and programming like this our goal is to be able to compute $\\pi$.\n",
    "\n",
    "- How do you think this could be done?\n",
    "\n",
    "**Rules**\n",
    "1. You cannot use $\\pi$ or $\\tau$ or variates like that\n",
    "2. You cannot use trigometric functions like $sin$ $cos$ $tan$"
   ]
  },
  {
   "cell_type": "code",
   "execution_count": 1,
   "metadata": {},
   "outputs": [],
   "source": [
    "from random import uniform\n",
    "from IPython.display import Math"
   ]
  },
  {
   "cell_type": "markdown",
   "metadata": {},
   "source": [
    " - square area: 2r * 2r = $4 r^2$\n",
    "\n",
    " - circle area:  $\\pi$ *$r^2$\n",
    "\n",
    " - Perimeter square: 2r * 4 = 8r\n",
    " - Perimeter of circle: 2$\\pi$r\n",
    "\n",
    " - quarter of area of square: $r^2$\n",
    "\n",
    " - quarter of area of circle: $\\pi$ $r^2$ / 4\n",
    "\n",
    "\n",
    " - circle/square\n",
    " - theta = $\\pi$*4\n",
    " - pi = 4*$\\theta$"
   ]
  },
  {
   "cell_type": "code",
   "execution_count": 2,
   "metadata": {},
   "outputs": [],
   "source": [
    "# Assuming the circle fits perfectly is inside the square\n",
    "# Create a loop in attempt to calculate the number of points that would fall inside/outside of the circle \n",
    "#Measure the distance between the two points\n",
    "count_in = 0\n",
    "count_out = 0\n",
    "for i in range(1000000):\n",
    "    x = uniform(-1,1)\n",
    "    y = uniform(-1,1)\n",
    "    distance = (x**2 + y**2)**(1/2)\n",
    "    if distance <= 1:\n",
    "        count_in += 1\n",
    "    else:\n",
    "        count_out+= 1"
   ]
  },
  {
   "cell_type": "code",
   "execution_count": 3,
   "metadata": {},
   "outputs": [
    {
     "data": {
      "text/plain": [
       "3.142872"
      ]
     },
     "execution_count": 3,
     "metadata": {},
     "output_type": "execute_result"
    }
   ],
   "source": [
    "(count_in/1000000)*4"
   ]
  }
 ],
 "metadata": {
  "kernelspec": {
   "display_name": "Python 3",
   "language": "python",
   "name": "python3"
  },
  "language_info": {
   "codemirror_mode": {
    "name": "ipython",
    "version": 3
   },
   "file_extension": ".py",
   "mimetype": "text/x-python",
   "name": "python",
   "nbconvert_exporter": "python",
   "pygments_lexer": "ipython3",
   "version": "3.6.5"
  }
 },
 "nbformat": 4,
 "nbformat_minor": 2
}
