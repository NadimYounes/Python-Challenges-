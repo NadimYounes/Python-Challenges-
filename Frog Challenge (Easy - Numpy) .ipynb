{
 "cells": [
  {
   "cell_type": "markdown",
   "metadata": {},
   "source": [
    "You are given an iterable:\n",
    "A = [1,2,3,4]\n",
    "\n",
    "Write a function that returns true if the A contains all\n",
    "integers from 1 to len(A), once, and exactly once.\n",
    "Given A \n",
    "aA = [1,2,3,4]\n",
    "myfunc(A),\n",
    "True\n",
    "A = [1,1,3,4]\n",
    "myfunc(A)\n",
    "False,\n",
    "A = [0,1,2,3]\n",
    "myfunc(A)\n",
    "False,\n",
    "A = [2,3]\n",
    "myfunc(A)\n",
    "False.\n"
   ]
  },
  {
   "cell_type": "code",
   "execution_count": 7,
   "metadata": {},
   "outputs": [
    {
     "ename": "NameError",
     "evalue": "name 'A' is not defined",
     "output_type": "error",
     "traceback": [
      "\u001b[0;31m---------------------------------------------------------------------------\u001b[0m",
      "\u001b[0;31mNameError\u001b[0m                                 Traceback (most recent call last)",
      "\u001b[0;32m<ipython-input-7-9ea0a041b18f>\u001b[0m in \u001b[0;36m<module>\u001b[0;34m()\u001b[0m\n\u001b[1;32m      6\u001b[0m         \u001b[0mprint\u001b[0m\u001b[0;34m(\u001b[0m\u001b[0;32mFalse\u001b[0m\u001b[0;34m)\u001b[0m\u001b[0;34m\u001b[0m\u001b[0m\n\u001b[1;32m      7\u001b[0m \u001b[0;34m\u001b[0m\u001b[0m\n\u001b[0;32m----> 8\u001b[0;31m \u001b[0mfunc\u001b[0m\u001b[0;34m(\u001b[0m\u001b[0mA\u001b[0m\u001b[0;34m)\u001b[0m\u001b[0;34m\u001b[0m\u001b[0m\n\u001b[0m\u001b[1;32m      9\u001b[0m \u001b[0;34m\u001b[0m\u001b[0m\n",
      "\u001b[0;31mNameError\u001b[0m: name 'A' is not defined"
     ]
    }
   ],
   "source": [
    "import numpy as np\n",
    "def func(x):\n",
    "    if np.all(x == np.arange(1,(len(x)+1),1)):\n",
    "        print(True)\n",
    "    else:\n",
    "        print(False)\n",
    "\n",
    "func([0,1,2,])        "
   ]
  },
  {
   "cell_type": "markdown",
   "metadata": {},
   "source": [
    "A frog wants to go from point A to point B, and can jump in steps of length C. This is in one dimension! Write a function that takes any A as a float, B as a float, and C as a float and outputs the  minimum number of jumps that it has to to take to get to, or past point B.\n",
    "\n",
    "Given:\n",
    "input = frog(20,45,10)\n",
    "output = 3,\n",
    "input = frog(-20,60,15)\n",
    "output = 6,\n",
    "input = frog(200,30,10)\n",
    "output = 17."
   ]
  },
  {
   "cell_type": "code",
   "execution_count": 6,
   "metadata": {},
   "outputs": [
    {
     "name": "stdout",
     "output_type": "stream",
     "text": [
      "1.94 µs ± 127 ns per loop (mean ± std. dev. of 7 runs, 1000000 loops each)\n"
     ]
    }
   ],
   "source": [
    "%%timeit\n",
    "import numpy as np \n",
    "def frog(A,B,C):\n",
    "    if A>B: \n",
    "        return len(np.arange(B,A,C))\n",
    "    else:\n",
    "        return len(np.arange(A,B,C))\n",
    "frog(20,45,10) "
   ]
  },
  {
   "cell_type": "code",
   "execution_count": 4,
   "metadata": {},
   "outputs": [
    {
     "data": {
      "text/plain": [
       "6"
      ]
     },
     "execution_count": 4,
     "metadata": {},
     "output_type": "execute_result"
    }
   ],
   "source": [
    "frog(-20,60,15)"
   ]
  },
  {
   "cell_type": "code",
   "execution_count": 5,
   "metadata": {},
   "outputs": [
    {
     "data": {
      "text/plain": [
       "17"
      ]
     },
     "execution_count": 5,
     "metadata": {},
     "output_type": "execute_result"
    }
   ],
   "source": [
    "frog(200,30,10) "
   ]
  }
 ],
 "metadata": {
  "kernelspec": {
   "display_name": "Python 3",
   "language": "python",
   "name": "python3"
  },
  "language_info": {
   "codemirror_mode": {
    "name": "ipython",
    "version": 3
   },
   "file_extension": ".py",
   "mimetype": "text/x-python",
   "name": "python",
   "nbconvert_exporter": "python",
   "pygments_lexer": "ipython3",
   "version": "3.5.5"
  },
  "widgets": {
   "state": {},
   "version": "1.1.2"
  }
 },
 "nbformat": 4,
 "nbformat_minor": 2
}
